{
 "cells": [
  {
   "cell_type": "code",
   "execution_count": 69,
   "metadata": {},
   "outputs": [],
   "source": [
    "# Imports\n",
    "import pandas as pd\n",
    "from sklearn.model_selection import train_test_split, cross_val_score\n",
    "from sklearn.preprocessing import StandardScaler\n",
    "from sklearn.linear_model import LinearRegression, Ridge, Lasso\n",
    "from sklearn.metrics import mean_squared_error, r2_score"
   ]
  },
  {
   "cell_type": "markdown",
   "metadata": {},
   "source": [
    "## Question\n",
    "Target Variable = Wins\n",
    "Modeling wins based on counting stats"
   ]
  },
  {
   "cell_type": "code",
   "execution_count": 2,
   "metadata": {},
   "outputs": [],
   "source": [
    "# Initialize dataframe\n",
    "big_east_df = pd.read_csv('./data/bigeastncaabasketball.csv')"
   ]
  },
  {
   "cell_type": "code",
   "execution_count": 3,
   "metadata": {},
   "outputs": [
    {
     "data": {
      "text/plain": [
       "(496, 37)"
      ]
     },
     "execution_count": 3,
     "metadata": {},
     "output_type": "execute_result"
    }
   ],
   "source": [
    "# Shape\n",
    "big_east_df.shape"
   ]
  },
  {
   "cell_type": "code",
   "execution_count": 4,
   "metadata": {},
   "outputs": [
    {
     "data": {
      "text/html": [
       "<div>\n",
       "<style scoped>\n",
       "    .dataframe tbody tr th:only-of-type {\n",
       "        vertical-align: middle;\n",
       "    }\n",
       "\n",
       "    .dataframe tbody tr th {\n",
       "        vertical-align: top;\n",
       "    }\n",
       "\n",
       "    .dataframe thead th {\n",
       "        text-align: right;\n",
       "    }\n",
       "</style>\n",
       "<table border=\"1\" class=\"dataframe\">\n",
       "  <thead>\n",
       "    <tr style=\"text-align: right;\">\n",
       "      <th></th>\n",
       "      <th>id</th>\n",
       "      <th>year</th>\n",
       "      <th>rank</th>\n",
       "      <th>school</th>\n",
       "      <th>games</th>\n",
       "      <th>wins</th>\n",
       "      <th>losses</th>\n",
       "      <th>win_percentage</th>\n",
       "      <th>conference_wins</th>\n",
       "      <th>conference_losses</th>\n",
       "      <th>...</th>\n",
       "      <th>offensive_rebounds</th>\n",
       "      <th>total_rebounds</th>\n",
       "      <th>assists</th>\n",
       "      <th>steals</th>\n",
       "      <th>blocks</th>\n",
       "      <th>turnovers</th>\n",
       "      <th>personal_fouls</th>\n",
       "      <th>points</th>\n",
       "      <th>opponent_points</th>\n",
       "      <th>simple_rating</th>\n",
       "    </tr>\n",
       "  </thead>\n",
       "  <tbody>\n",
       "    <tr>\n",
       "      <th>0</th>\n",
       "      <td>1</td>\n",
       "      <td>2021</td>\n",
       "      <td>1</td>\n",
       "      <td>Villanova</td>\n",
       "      <td>38</td>\n",
       "      <td>30</td>\n",
       "      <td>8</td>\n",
       "      <td>0.789</td>\n",
       "      <td>16</td>\n",
       "      <td>4</td>\n",
       "      <td>...</td>\n",
       "      <td>10.3</td>\n",
       "      <td>34.8</td>\n",
       "      <td>11.9</td>\n",
       "      <td>6.0</td>\n",
       "      <td>2.2</td>\n",
       "      <td>9.9</td>\n",
       "      <td>14.9</td>\n",
       "      <td>71.7</td>\n",
       "      <td>62.7</td>\n",
       "      <td>19.31</td>\n",
       "    </tr>\n",
       "    <tr>\n",
       "      <th>1</th>\n",
       "      <td>2</td>\n",
       "      <td>2021</td>\n",
       "      <td>2</td>\n",
       "      <td>Providence</td>\n",
       "      <td>33</td>\n",
       "      <td>27</td>\n",
       "      <td>6</td>\n",
       "      <td>0.818</td>\n",
       "      <td>14</td>\n",
       "      <td>3</td>\n",
       "      <td>...</td>\n",
       "      <td>10.5</td>\n",
       "      <td>37.6</td>\n",
       "      <td>13.2</td>\n",
       "      <td>5.0</td>\n",
       "      <td>3.7</td>\n",
       "      <td>11.4</td>\n",
       "      <td>16.0</td>\n",
       "      <td>71.5</td>\n",
       "      <td>66.2</td>\n",
       "      <td>13.08</td>\n",
       "    </tr>\n",
       "    <tr>\n",
       "      <th>2</th>\n",
       "      <td>3</td>\n",
       "      <td>2021</td>\n",
       "      <td>3</td>\n",
       "      <td>UConn</td>\n",
       "      <td>33</td>\n",
       "      <td>23</td>\n",
       "      <td>10</td>\n",
       "      <td>0.697</td>\n",
       "      <td>13</td>\n",
       "      <td>6</td>\n",
       "      <td>...</td>\n",
       "      <td>13.8</td>\n",
       "      <td>40.4</td>\n",
       "      <td>14.0</td>\n",
       "      <td>5.9</td>\n",
       "      <td>6.4</td>\n",
       "      <td>11.8</td>\n",
       "      <td>16.8</td>\n",
       "      <td>74.8</td>\n",
       "      <td>65.3</td>\n",
       "      <td>16.40</td>\n",
       "    </tr>\n",
       "    <tr>\n",
       "      <th>3</th>\n",
       "      <td>4</td>\n",
       "      <td>2021</td>\n",
       "      <td>4</td>\n",
       "      <td>Creighton</td>\n",
       "      <td>35</td>\n",
       "      <td>23</td>\n",
       "      <td>12</td>\n",
       "      <td>0.657</td>\n",
       "      <td>12</td>\n",
       "      <td>7</td>\n",
       "      <td>...</td>\n",
       "      <td>9.6</td>\n",
       "      <td>38.1</td>\n",
       "      <td>13.3</td>\n",
       "      <td>5.5</td>\n",
       "      <td>4.3</td>\n",
       "      <td>14.1</td>\n",
       "      <td>13.6</td>\n",
       "      <td>69.2</td>\n",
       "      <td>66.4</td>\n",
       "      <td>11.34</td>\n",
       "    </tr>\n",
       "    <tr>\n",
       "      <th>4</th>\n",
       "      <td>5</td>\n",
       "      <td>2021</td>\n",
       "      <td>5</td>\n",
       "      <td>Marquette</td>\n",
       "      <td>32</td>\n",
       "      <td>19</td>\n",
       "      <td>13</td>\n",
       "      <td>0.594</td>\n",
       "      <td>11</td>\n",
       "      <td>8</td>\n",
       "      <td>...</td>\n",
       "      <td>7.8</td>\n",
       "      <td>34.8</td>\n",
       "      <td>16.0</td>\n",
       "      <td>7.8</td>\n",
       "      <td>5.2</td>\n",
       "      <td>12.4</td>\n",
       "      <td>17.4</td>\n",
       "      <td>74.0</td>\n",
       "      <td>71.6</td>\n",
       "      <td>11.36</td>\n",
       "    </tr>\n",
       "  </tbody>\n",
       "</table>\n",
       "<p>5 rows × 37 columns</p>\n",
       "</div>"
      ],
      "text/plain": [
       "   id  year  rank      school  games  wins  losses  win_percentage  \\\n",
       "0   1  2021     1   Villanova     38    30       8           0.789   \n",
       "1   2  2021     2  Providence     33    27       6           0.818   \n",
       "2   3  2021     3       UConn     33    23      10           0.697   \n",
       "3   4  2021     4   Creighton     35    23      12           0.657   \n",
       "4   5  2021     5   Marquette     32    19      13           0.594   \n",
       "\n",
       "   conference_wins  conference_losses  ...  offensive_rebounds  \\\n",
       "0               16                  4  ...                10.3   \n",
       "1               14                  3  ...                10.5   \n",
       "2               13                  6  ...                13.8   \n",
       "3               12                  7  ...                 9.6   \n",
       "4               11                  8  ...                 7.8   \n",
       "\n",
       "   total_rebounds  assists  steals  blocks  turnovers  personal_fouls  points  \\\n",
       "0            34.8     11.9     6.0     2.2        9.9            14.9    71.7   \n",
       "1            37.6     13.2     5.0     3.7       11.4            16.0    71.5   \n",
       "2            40.4     14.0     5.9     6.4       11.8            16.8    74.8   \n",
       "3            38.1     13.3     5.5     4.3       14.1            13.6    69.2   \n",
       "4            34.8     16.0     7.8     5.2       12.4            17.4    74.0   \n",
       "\n",
       "   opponent_points  simple_rating  \n",
       "0             62.7          19.31  \n",
       "1             66.2          13.08  \n",
       "2             65.3          16.40  \n",
       "3             66.4          11.34  \n",
       "4             71.6          11.36  \n",
       "\n",
       "[5 rows x 37 columns]"
      ]
     },
     "execution_count": 4,
     "metadata": {},
     "output_type": "execute_result"
    }
   ],
   "source": [
    "# Quick Look\n",
    "big_east_df.head()"
   ]
  },
  {
   "cell_type": "markdown",
   "metadata": {},
   "source": [
    "## EDA"
   ]
  },
  {
   "cell_type": "code",
   "execution_count": 5,
   "metadata": {
    "scrolled": true
   },
   "outputs": [
    {
     "data": {
      "text/plain": [
       "Index(['id', 'year', 'rank', 'school', 'games', 'wins', 'losses',\n",
       "       'win_percentage', 'conference_wins', 'conference_losses', 'home_wins',\n",
       "       'home_losses', 'away_wins', 'away_losses', 'offensive_rating',\n",
       "       'defensive_rating', 'net_rating', 'field_goals', 'field_goal_attempts',\n",
       "       'field_goal_percentage', '3_pointers', '3_pointer_attempts',\n",
       "       '3_pointer_percentage', 'effective_field_goal_percentage',\n",
       "       'free_throws', 'free_throw_attempts', 'free_throw_percentage',\n",
       "       'offensive_rebounds', 'total_rebounds', 'assists', 'steals', 'blocks',\n",
       "       'turnovers', 'personal_fouls', 'points', 'opponent_points',\n",
       "       'simple_rating'],\n",
       "      dtype='object')"
      ]
     },
     "execution_count": 5,
     "metadata": {},
     "output_type": "execute_result"
    }
   ],
   "source": [
    "# Columns\n",
    "big_east_df.columns"
   ]
  },
  {
   "cell_type": "code",
   "execution_count": 6,
   "metadata": {},
   "outputs": [
    {
     "name": "stdout",
     "output_type": "stream",
     "text": [
      "<class 'pandas.core.frame.DataFrame'>\n",
      "RangeIndex: 496 entries, 0 to 495\n",
      "Data columns (total 37 columns):\n",
      " #   Column                           Non-Null Count  Dtype  \n",
      "---  ------                           --------------  -----  \n",
      " 0   id                               496 non-null    int64  \n",
      " 1   year                             496 non-null    int64  \n",
      " 2   rank                             496 non-null    int64  \n",
      " 3   school                           496 non-null    object \n",
      " 4   games                            496 non-null    int64  \n",
      " 5   wins                             496 non-null    int64  \n",
      " 6   losses                           496 non-null    int64  \n",
      " 7   win_percentage                   496 non-null    float64\n",
      " 8   conference_wins                  496 non-null    int64  \n",
      " 9   conference_losses                496 non-null    int64  \n",
      " 10  home_wins                        288 non-null    float64\n",
      " 11  home_losses                      288 non-null    float64\n",
      " 12  away_wins                        288 non-null    float64\n",
      " 13  away_losses                      288 non-null    float64\n",
      " 14  offensive_rating                 218 non-null    float64\n",
      " 15  defensive_rating                 218 non-null    float64\n",
      " 16  net_rating                       218 non-null    float64\n",
      " 17  field_goals                      496 non-null    float64\n",
      " 18  field_goal_attempts              496 non-null    float64\n",
      " 19  field_goal_percentage            496 non-null    float64\n",
      " 20  3_pointers                       438 non-null    float64\n",
      " 21  3_pointer_attempts               438 non-null    float64\n",
      " 22  3_pointer_percentage             438 non-null    float64\n",
      " 23  effective_field_goal_percentage  438 non-null    float64\n",
      " 24  free_throws                      496 non-null    float64\n",
      " 25  free_throw_attempts              496 non-null    float64\n",
      " 26  free_throw_percentage            496 non-null    float64\n",
      " 27  offensive_rebounds               337 non-null    float64\n",
      " 28  total_rebounds                   496 non-null    float64\n",
      " 29  assists                          489 non-null    float64\n",
      " 30  steals                           480 non-null    float64\n",
      " 31  blocks                           477 non-null    float64\n",
      " 32  turnovers                        476 non-null    float64\n",
      " 33  personal_fouls                   477 non-null    float64\n",
      " 34  points                           496 non-null    float64\n",
      " 35  opponent_points                  496 non-null    float64\n",
      " 36  simple_rating                    496 non-null    float64\n",
      "dtypes: float64(28), int64(8), object(1)\n",
      "memory usage: 143.5+ KB\n"
     ]
    }
   ],
   "source": [
    "big_east_df.info()"
   ]
  },
  {
   "cell_type": "code",
   "execution_count": 7,
   "metadata": {},
   "outputs": [],
   "source": [
    "columns_to_drop = ['id', 'year', 'rank', 'school', 'games', 'losses', 'win_percentage', 'conference_wins', 'conference_losses',\n",
    "                   'home_wins', 'home_losses', 'away_wins', 'away_losses', 'simple_rating', 'personal_fouls', 'opponent_points',\n",
    "                  'offensive_rating', 'defensive_rating', 'net_rating', 'offensive_rebounds']"
   ]
  },
  {
   "cell_type": "code",
   "execution_count": 8,
   "metadata": {},
   "outputs": [],
   "source": [
    "big_east_df.drop(columns=columns_to_drop, inplace=True)"
   ]
  },
  {
   "cell_type": "code",
   "execution_count": 9,
   "metadata": {},
   "outputs": [
    {
     "data": {
      "text/html": [
       "<div>\n",
       "<style scoped>\n",
       "    .dataframe tbody tr th:only-of-type {\n",
       "        vertical-align: middle;\n",
       "    }\n",
       "\n",
       "    .dataframe tbody tr th {\n",
       "        vertical-align: top;\n",
       "    }\n",
       "\n",
       "    .dataframe thead th {\n",
       "        text-align: right;\n",
       "    }\n",
       "</style>\n",
       "<table border=\"1\" class=\"dataframe\">\n",
       "  <thead>\n",
       "    <tr style=\"text-align: right;\">\n",
       "      <th></th>\n",
       "      <th>wins</th>\n",
       "      <th>field_goals</th>\n",
       "      <th>field_goal_attempts</th>\n",
       "      <th>field_goal_percentage</th>\n",
       "      <th>3_pointers</th>\n",
       "      <th>3_pointer_attempts</th>\n",
       "      <th>3_pointer_percentage</th>\n",
       "      <th>effective_field_goal_percentage</th>\n",
       "      <th>free_throws</th>\n",
       "      <th>free_throw_attempts</th>\n",
       "      <th>free_throw_percentage</th>\n",
       "      <th>total_rebounds</th>\n",
       "      <th>assists</th>\n",
       "      <th>steals</th>\n",
       "      <th>blocks</th>\n",
       "      <th>turnovers</th>\n",
       "      <th>points</th>\n",
       "    </tr>\n",
       "  </thead>\n",
       "  <tbody>\n",
       "    <tr>\n",
       "      <th>0</th>\n",
       "      <td>30</td>\n",
       "      <td>24.3</td>\n",
       "      <td>56.1</td>\n",
       "      <td>0.432</td>\n",
       "      <td>9.3</td>\n",
       "      <td>26.0</td>\n",
       "      <td>0.359</td>\n",
       "      <td>0.515</td>\n",
       "      <td>13.9</td>\n",
       "      <td>16.7</td>\n",
       "      <td>0.830</td>\n",
       "      <td>34.8</td>\n",
       "      <td>11.9</td>\n",
       "      <td>6.0</td>\n",
       "      <td>2.2</td>\n",
       "      <td>9.9</td>\n",
       "      <td>71.7</td>\n",
       "    </tr>\n",
       "    <tr>\n",
       "      <th>1</th>\n",
       "      <td>27</td>\n",
       "      <td>24.5</td>\n",
       "      <td>56.3</td>\n",
       "      <td>0.435</td>\n",
       "      <td>7.4</td>\n",
       "      <td>21.4</td>\n",
       "      <td>0.344</td>\n",
       "      <td>0.500</td>\n",
       "      <td>15.2</td>\n",
       "      <td>20.8</td>\n",
       "      <td>0.728</td>\n",
       "      <td>37.6</td>\n",
       "      <td>13.2</td>\n",
       "      <td>5.0</td>\n",
       "      <td>3.7</td>\n",
       "      <td>11.4</td>\n",
       "      <td>71.5</td>\n",
       "    </tr>\n",
       "    <tr>\n",
       "      <th>2</th>\n",
       "      <td>23</td>\n",
       "      <td>26.7</td>\n",
       "      <td>61.2</td>\n",
       "      <td>0.435</td>\n",
       "      <td>7.4</td>\n",
       "      <td>21.1</td>\n",
       "      <td>0.352</td>\n",
       "      <td>0.496</td>\n",
       "      <td>14.1</td>\n",
       "      <td>18.7</td>\n",
       "      <td>0.753</td>\n",
       "      <td>40.4</td>\n",
       "      <td>14.0</td>\n",
       "      <td>5.9</td>\n",
       "      <td>6.4</td>\n",
       "      <td>11.8</td>\n",
       "      <td>74.8</td>\n",
       "    </tr>\n",
       "    <tr>\n",
       "      <th>3</th>\n",
       "      <td>23</td>\n",
       "      <td>25.6</td>\n",
       "      <td>57.2</td>\n",
       "      <td>0.448</td>\n",
       "      <td>6.7</td>\n",
       "      <td>21.8</td>\n",
       "      <td>0.308</td>\n",
       "      <td>0.506</td>\n",
       "      <td>11.3</td>\n",
       "      <td>15.3</td>\n",
       "      <td>0.738</td>\n",
       "      <td>38.1</td>\n",
       "      <td>13.3</td>\n",
       "      <td>5.5</td>\n",
       "      <td>4.3</td>\n",
       "      <td>14.1</td>\n",
       "      <td>69.2</td>\n",
       "    </tr>\n",
       "    <tr>\n",
       "      <th>4</th>\n",
       "      <td>19</td>\n",
       "      <td>26.9</td>\n",
       "      <td>59.8</td>\n",
       "      <td>0.450</td>\n",
       "      <td>8.6</td>\n",
       "      <td>25.0</td>\n",
       "      <td>0.344</td>\n",
       "      <td>0.521</td>\n",
       "      <td>11.6</td>\n",
       "      <td>15.7</td>\n",
       "      <td>0.741</td>\n",
       "      <td>34.8</td>\n",
       "      <td>16.0</td>\n",
       "      <td>7.8</td>\n",
       "      <td>5.2</td>\n",
       "      <td>12.4</td>\n",
       "      <td>74.0</td>\n",
       "    </tr>\n",
       "  </tbody>\n",
       "</table>\n",
       "</div>"
      ],
      "text/plain": [
       "   wins  field_goals  field_goal_attempts  field_goal_percentage  3_pointers  \\\n",
       "0    30         24.3                 56.1                  0.432         9.3   \n",
       "1    27         24.5                 56.3                  0.435         7.4   \n",
       "2    23         26.7                 61.2                  0.435         7.4   \n",
       "3    23         25.6                 57.2                  0.448         6.7   \n",
       "4    19         26.9                 59.8                  0.450         8.6   \n",
       "\n",
       "   3_pointer_attempts  3_pointer_percentage  effective_field_goal_percentage  \\\n",
       "0                26.0                 0.359                            0.515   \n",
       "1                21.4                 0.344                            0.500   \n",
       "2                21.1                 0.352                            0.496   \n",
       "3                21.8                 0.308                            0.506   \n",
       "4                25.0                 0.344                            0.521   \n",
       "\n",
       "   free_throws  free_throw_attempts  free_throw_percentage  total_rebounds  \\\n",
       "0         13.9                 16.7                  0.830            34.8   \n",
       "1         15.2                 20.8                  0.728            37.6   \n",
       "2         14.1                 18.7                  0.753            40.4   \n",
       "3         11.3                 15.3                  0.738            38.1   \n",
       "4         11.6                 15.7                  0.741            34.8   \n",
       "\n",
       "   assists  steals  blocks  turnovers  points  \n",
       "0     11.9     6.0     2.2        9.9    71.7  \n",
       "1     13.2     5.0     3.7       11.4    71.5  \n",
       "2     14.0     5.9     6.4       11.8    74.8  \n",
       "3     13.3     5.5     4.3       14.1    69.2  \n",
       "4     16.0     7.8     5.2       12.4    74.0  "
      ]
     },
     "execution_count": 9,
     "metadata": {},
     "output_type": "execute_result"
    }
   ],
   "source": [
    "big_east_df.head()"
   ]
  },
  {
   "cell_type": "code",
   "execution_count": 10,
   "metadata": {},
   "outputs": [],
   "source": [
    "# Check for Nulls and Datatypes"
   ]
  },
  {
   "cell_type": "code",
   "execution_count": 11,
   "metadata": {},
   "outputs": [
    {
     "name": "stdout",
     "output_type": "stream",
     "text": [
      "<class 'pandas.core.frame.DataFrame'>\n",
      "RangeIndex: 496 entries, 0 to 495\n",
      "Data columns (total 17 columns):\n",
      " #   Column                           Non-Null Count  Dtype  \n",
      "---  ------                           --------------  -----  \n",
      " 0   wins                             496 non-null    int64  \n",
      " 1   field_goals                      496 non-null    float64\n",
      " 2   field_goal_attempts              496 non-null    float64\n",
      " 3   field_goal_percentage            496 non-null    float64\n",
      " 4   3_pointers                       438 non-null    float64\n",
      " 5   3_pointer_attempts               438 non-null    float64\n",
      " 6   3_pointer_percentage             438 non-null    float64\n",
      " 7   effective_field_goal_percentage  438 non-null    float64\n",
      " 8   free_throws                      496 non-null    float64\n",
      " 9   free_throw_attempts              496 non-null    float64\n",
      " 10  free_throw_percentage            496 non-null    float64\n",
      " 11  total_rebounds                   496 non-null    float64\n",
      " 12  assists                          489 non-null    float64\n",
      " 13  steals                           480 non-null    float64\n",
      " 14  blocks                           477 non-null    float64\n",
      " 15  turnovers                        476 non-null    float64\n",
      " 16  points                           496 non-null    float64\n",
      "dtypes: float64(16), int64(1)\n",
      "memory usage: 66.0 KB\n"
     ]
    }
   ],
   "source": [
    "big_east_df.info()"
   ]
  },
  {
   "cell_type": "code",
   "execution_count": 12,
   "metadata": {},
   "outputs": [],
   "source": [
    "# Dropna\n",
    "big_east_df.dropna(inplace=True)"
   ]
  },
  {
   "cell_type": "code",
   "execution_count": 14,
   "metadata": {},
   "outputs": [
    {
     "name": "stdout",
     "output_type": "stream",
     "text": [
      "<class 'pandas.core.frame.DataFrame'>\n",
      "Int64Index: 437 entries, 0 to 471\n",
      "Data columns (total 17 columns):\n",
      " #   Column                           Non-Null Count  Dtype  \n",
      "---  ------                           --------------  -----  \n",
      " 0   wins                             437 non-null    int64  \n",
      " 1   field_goals                      437 non-null    float64\n",
      " 2   field_goal_attempts              437 non-null    float64\n",
      " 3   field_goal_percentage            437 non-null    float64\n",
      " 4   3_pointers                       437 non-null    float64\n",
      " 5   3_pointer_attempts               437 non-null    float64\n",
      " 6   3_pointer_percentage             437 non-null    float64\n",
      " 7   effective_field_goal_percentage  437 non-null    float64\n",
      " 8   free_throws                      437 non-null    float64\n",
      " 9   free_throw_attempts              437 non-null    float64\n",
      " 10  free_throw_percentage            437 non-null    float64\n",
      " 11  total_rebounds                   437 non-null    float64\n",
      " 12  assists                          437 non-null    float64\n",
      " 13  steals                           437 non-null    float64\n",
      " 14  blocks                           437 non-null    float64\n",
      " 15  turnovers                        437 non-null    float64\n",
      " 16  points                           437 non-null    float64\n",
      "dtypes: float64(16), int64(1)\n",
      "memory usage: 61.5 KB\n"
     ]
    }
   ],
   "source": [
    "# Recheck\n",
    "big_east_df.info()"
   ]
  },
  {
   "cell_type": "markdown",
   "metadata": {},
   "source": [
    "## Train Test Split, Scale"
   ]
  },
  {
   "cell_type": "code",
   "execution_count": 17,
   "metadata": {},
   "outputs": [],
   "source": [
    "# Initialize Variables\n",
    "y = big_east_df['wins']\n",
    "X = big_east_df.drop('wins', axis=1)"
   ]
  },
  {
   "cell_type": "code",
   "execution_count": 18,
   "metadata": {},
   "outputs": [],
   "source": [
    "# Split\n",
    "X_train, X_test, y_train, y_test = train_test_split(X, y, random_state=42)"
   ]
  },
  {
   "cell_type": "code",
   "execution_count": 37,
   "metadata": {},
   "outputs": [],
   "source": [
    "# Instantiate scaler, fit and transform data\n",
    "scaler = StandardScaler()\n",
    "X_train_scaled = scaler.fit_transform(X_train)\n",
    "X_test_scaled = scaler.transform(X_test)"
   ]
  },
  {
   "cell_type": "markdown",
   "metadata": {},
   "source": [
    "## Linear Regression Model"
   ]
  },
  {
   "cell_type": "code",
   "execution_count": 39,
   "metadata": {},
   "outputs": [],
   "source": [
    "# Instantiate LR Model\n",
    "lr_model = LinearRegression()\n",
    "\n",
    "# Fit model onto training data\n",
    "lr_model = lr_model.fit(X_train_scaled, y_train)"
   ]
  },
  {
   "cell_type": "code",
   "execution_count": 41,
   "metadata": {},
   "outputs": [],
   "source": [
    "# Prediction Variables \n",
    "y_train_prediction = lr_model.predict(X_train_scaled)\n",
    "y_test_prediction = lr_model.predict(X_test_scaled)"
   ]
  },
  {
   "cell_type": "code",
   "execution_count": 44,
   "metadata": {},
   "outputs": [],
   "source": [
    "# Evaluate model using RMSE and R2\n",
    "train_rmse = mean_squared_error(y_train, y_train_prediction, squared=False)\n",
    "test_rmse = mean_squared_error(y_test, y_test_prediction, squared=False)\n",
    "\n",
    "train_r2 = r2_score(y_train, y_train_prediction)\n",
    "test_r2 = r2_score(y_test, y_test_prediction)"
   ]
  },
  {
   "cell_type": "code",
   "execution_count": 46,
   "metadata": {},
   "outputs": [
    {
     "name": "stdout",
     "output_type": "stream",
     "text": [
      "\n",
      "RMSE\n",
      "Train: 3.3667184112128936 \t Test: 3.4593678495927223\n",
      "\n",
      "R-squared\n",
      "Train: 0.7001536156012553 \t Test: 0.7111216838784009\n",
      "\n"
     ]
    }
   ],
   "source": [
    "# Prints\n",
    "print(f\"\"\"\n",
    "RMSE\n",
    "Train: {train_rmse} \\t Test: {test_rmse}\n",
    "\n",
    "R-squared\n",
    "Train: {train_r2} \\t Test: {test_r2}\n",
    "\"\"\")"
   ]
  },
  {
   "cell_type": "markdown",
   "metadata": {},
   "source": [
    "## Ridge Model"
   ]
  },
  {
   "cell_type": "code",
   "execution_count": 64,
   "metadata": {},
   "outputs": [],
   "source": [
    "# Instantiate Ridge Model\n",
    "ridge_model = Ridge(alpha=1, solver='sag', random_state=42)\n",
    "\n",
    "# Fit model onto training data\n",
    "ridge_model = ridge_model.fit(X_train_scaled, y_train)"
   ]
  },
  {
   "cell_type": "code",
   "execution_count": 65,
   "metadata": {},
   "outputs": [],
   "source": [
    "# Prediction Vars\n",
    "y_train_prediction_r = ridge_model.predict(X_train_scaled)\n",
    "y_test_prediction_r = ridge_model.predict(X_test_scaled)"
   ]
  },
  {
   "cell_type": "code",
   "execution_count": 66,
   "metadata": {},
   "outputs": [],
   "source": [
    "# Evaluate model using RMSE and R2\n",
    "train_rmse_r = mean_squared_error(y_train, y_train_prediction_r, squared=False)\n",
    "test_rmse_r = mean_squared_error(y_test, y_test_prediction_r, squared=False)\n",
    "\n",
    "train_r2_r = r2_score(y_train, y_train_prediction_r)\n",
    "test_r2_r = r2_score(y_test, y_test_prediction_r)"
   ]
  },
  {
   "cell_type": "code",
   "execution_count": 67,
   "metadata": {
    "scrolled": true
   },
   "outputs": [
    {
     "name": "stdout",
     "output_type": "stream",
     "text": [
      "\n",
      "RMSE\n",
      "Train: 3.3770215756520177 \t Test: 3.430993645286054\n",
      "\n",
      "R-squared\n",
      "Train: 0.6983155683281917 \t Test: 0.7158410878418255\n",
      "\n"
     ]
    }
   ],
   "source": [
    "# Prints\n",
    "print(f\"\"\"\n",
    "RMSE\n",
    "Train: {train_rmse_r} \\t Test: {test_rmse_r}\n",
    "\n",
    "R-squared\n",
    "Train: {train_r2_r} \\t Test: {test_r2_r}\n",
    "\"\"\")"
   ]
  },
  {
   "cell_type": "markdown",
   "metadata": {},
   "source": [
    "## Lasso"
   ]
  },
  {
   "cell_type": "code",
   "execution_count": 71,
   "metadata": {},
   "outputs": [],
   "source": [
    "# Instantiate Lasso Model\n",
    "lasso_model = Lasso(random_state=42)\n",
    "\n",
    "# Fit model onto training data\n",
    "lasso_model = lasso_model.fit(X_train_scaled, y_train)"
   ]
  },
  {
   "cell_type": "code",
   "execution_count": 72,
   "metadata": {},
   "outputs": [],
   "source": [
    "# Prediction Vars\n",
    "y_train_prediction_l = lasso_model.predict(X_train_scaled)\n",
    "y_test_prediction_l = lasso_model.predict(X_test_scaled)"
   ]
  },
  {
   "cell_type": "code",
   "execution_count": 73,
   "metadata": {},
   "outputs": [],
   "source": [
    "# Evaluate model using RMSE and R2\n",
    "train_rmse_l = mean_squared_error(y_train, y_train_prediction_l, squared=False)\n",
    "test_rmse_l = mean_squared_error(y_test, y_test_prediction_l, squared=False)\n",
    "\n",
    "train_r2_l = r2_score(y_train, y_train_prediction_l)\n",
    "test_r2_l = r2_score(y_test, y_test_prediction_l)"
   ]
  },
  {
   "cell_type": "code",
   "execution_count": 74,
   "metadata": {},
   "outputs": [
    {
     "name": "stdout",
     "output_type": "stream",
     "text": [
      "\n",
      "RMSE\n",
      "Train: 4.560127135201716 \t Test: 4.891443445023222\n",
      "\n",
      "R-squared\n",
      "Train: 0.44990318534510554 \t Test: 0.42244210180342423\n",
      "\n"
     ]
    }
   ],
   "source": [
    "# Prints\n",
    "print(f\"\"\"\n",
    "RMSE\n",
    "Train: {train_rmse_l} \\t Test: {test_rmse_l}\n",
    "\n",
    "R-squared\n",
    "Train: {train_r2_l} \\t Test: {test_r2_l}\n",
    "\"\"\")"
   ]
  }
 ],
 "metadata": {
  "kernelspec": {
   "display_name": "Python 3",
   "language": "python",
   "name": "python3"
  },
  "language_info": {
   "codemirror_mode": {
    "name": "ipython",
    "version": 3
   },
   "file_extension": ".py",
   "mimetype": "text/x-python",
   "name": "python",
   "nbconvert_exporter": "python",
   "pygments_lexer": "ipython3",
   "version": "3.8.5"
  },
  "toc": {
   "base_numbering": 1,
   "nav_menu": {},
   "number_sections": true,
   "sideBar": true,
   "skip_h1_title": false,
   "title_cell": "Table of Contents",
   "title_sidebar": "Contents",
   "toc_cell": false,
   "toc_position": {},
   "toc_section_display": true,
   "toc_window_display": false
  }
 },
 "nbformat": 4,
 "nbformat_minor": 2
}
